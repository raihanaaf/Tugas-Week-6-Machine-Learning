{
  "nbformat": 4,
  "nbformat_minor": 0,
  "metadata": {
    "colab": {
      "provenance": []
    },
    "kernelspec": {
      "name": "python3",
      "display_name": "Python 3"
    },
    "language_info": {
      "name": "python"
    }
  },
  "cells": [
    {
      "cell_type": "markdown",
      "source": [
        "# Online Retail Dataset\n",
        "**Raihana Fawaz (1103210102)**"
      ],
      "metadata": {
        "id": "f2kywsTegS1m"
      }
    },
    {
      "cell_type": "code",
      "execution_count": 1,
      "metadata": {
        "id": "-ph_GaFWgNU8"
      },
      "outputs": [],
      "source": [
        "# Import libraries\n",
        "from google.colab import drive\n",
        "import pandas as pd\n",
        "from sklearn.preprocessing import StandardScaler\n",
        "from sklearn.cluster import KMeans, AgglomerativeClustering\n",
        "from sklearn.metrics import silhouette_score, davies_bouldin_score, calinski_harabasz_score\n",
        "import matplotlib.pyplot as plt\n",
        "from scipy.spatial.distance import cdist\n",
        "import numpy as np"
      ]
    },
    {
      "cell_type": "code",
      "source": [
        "data = pd.read_csv('/content/Online Retail.csv')\n",
        "data.head()"
      ],
      "metadata": {
        "colab": {
          "base_uri": "https://localhost:8080/",
          "height": 206
        },
        "id": "CiH0ILMPgk7d",
        "outputId": "0569a072-f35b-41c1-bd1a-e19a8fed7353"
      },
      "execution_count": 2,
      "outputs": [
        {
          "output_type": "execute_result",
          "data": {
            "text/plain": [
              "  InvoiceNo StockCode                          Description  Quantity  \\\n",
              "0    536365    85123A   WHITE HANGING HEART T-LIGHT HOLDER         6   \n",
              "1    536365     71053                  WHITE METAL LANTERN         6   \n",
              "2    536365    84406B       CREAM CUPID HEARTS COAT HANGER         8   \n",
              "3    536365    84029G  KNITTED UNION FLAG HOT WATER BOTTLE         6   \n",
              "4    536365    84029E       RED WOOLLY HOTTIE WHITE HEART.         6   \n",
              "\n",
              "      InvoiceDate  UnitPrice  CustomerID         Country  \n",
              "0  12/1/2010 8:26       2.55     17850.0  United Kingdom  \n",
              "1  12/1/2010 8:26       3.39     17850.0  United Kingdom  \n",
              "2  12/1/2010 8:26       2.75     17850.0  United Kingdom  \n",
              "3  12/1/2010 8:26       3.39     17850.0  United Kingdom  \n",
              "4  12/1/2010 8:26       3.39     17850.0  United Kingdom  "
            ],
            "text/html": [
              "\n",
              "  <div id=\"df-0bf48f1b-cb11-420e-b7b5-e6240c534a38\" class=\"colab-df-container\">\n",
              "    <div>\n",
              "<style scoped>\n",
              "    .dataframe tbody tr th:only-of-type {\n",
              "        vertical-align: middle;\n",
              "    }\n",
              "\n",
              "    .dataframe tbody tr th {\n",
              "        vertical-align: top;\n",
              "    }\n",
              "\n",
              "    .dataframe thead th {\n",
              "        text-align: right;\n",
              "    }\n",
              "</style>\n",
              "<table border=\"1\" class=\"dataframe\">\n",
              "  <thead>\n",
              "    <tr style=\"text-align: right;\">\n",
              "      <th></th>\n",
              "      <th>InvoiceNo</th>\n",
              "      <th>StockCode</th>\n",
              "      <th>Description</th>\n",
              "      <th>Quantity</th>\n",
              "      <th>InvoiceDate</th>\n",
              "      <th>UnitPrice</th>\n",
              "      <th>CustomerID</th>\n",
              "      <th>Country</th>\n",
              "    </tr>\n",
              "  </thead>\n",
              "  <tbody>\n",
              "    <tr>\n",
              "      <th>0</th>\n",
              "      <td>536365</td>\n",
              "      <td>85123A</td>\n",
              "      <td>WHITE HANGING HEART T-LIGHT HOLDER</td>\n",
              "      <td>6</td>\n",
              "      <td>12/1/2010 8:26</td>\n",
              "      <td>2.55</td>\n",
              "      <td>17850.0</td>\n",
              "      <td>United Kingdom</td>\n",
              "    </tr>\n",
              "    <tr>\n",
              "      <th>1</th>\n",
              "      <td>536365</td>\n",
              "      <td>71053</td>\n",
              "      <td>WHITE METAL LANTERN</td>\n",
              "      <td>6</td>\n",
              "      <td>12/1/2010 8:26</td>\n",
              "      <td>3.39</td>\n",
              "      <td>17850.0</td>\n",
              "      <td>United Kingdom</td>\n",
              "    </tr>\n",
              "    <tr>\n",
              "      <th>2</th>\n",
              "      <td>536365</td>\n",
              "      <td>84406B</td>\n",
              "      <td>CREAM CUPID HEARTS COAT HANGER</td>\n",
              "      <td>8</td>\n",
              "      <td>12/1/2010 8:26</td>\n",
              "      <td>2.75</td>\n",
              "      <td>17850.0</td>\n",
              "      <td>United Kingdom</td>\n",
              "    </tr>\n",
              "    <tr>\n",
              "      <th>3</th>\n",
              "      <td>536365</td>\n",
              "      <td>84029G</td>\n",
              "      <td>KNITTED UNION FLAG HOT WATER BOTTLE</td>\n",
              "      <td>6</td>\n",
              "      <td>12/1/2010 8:26</td>\n",
              "      <td>3.39</td>\n",
              "      <td>17850.0</td>\n",
              "      <td>United Kingdom</td>\n",
              "    </tr>\n",
              "    <tr>\n",
              "      <th>4</th>\n",
              "      <td>536365</td>\n",
              "      <td>84029E</td>\n",
              "      <td>RED WOOLLY HOTTIE WHITE HEART.</td>\n",
              "      <td>6</td>\n",
              "      <td>12/1/2010 8:26</td>\n",
              "      <td>3.39</td>\n",
              "      <td>17850.0</td>\n",
              "      <td>United Kingdom</td>\n",
              "    </tr>\n",
              "  </tbody>\n",
              "</table>\n",
              "</div>\n",
              "    <div class=\"colab-df-buttons\">\n",
              "\n",
              "  <div class=\"colab-df-container\">\n",
              "    <button class=\"colab-df-convert\" onclick=\"convertToInteractive('df-0bf48f1b-cb11-420e-b7b5-e6240c534a38')\"\n",
              "            title=\"Convert this dataframe to an interactive table.\"\n",
              "            style=\"display:none;\">\n",
              "\n",
              "  <svg xmlns=\"http://www.w3.org/2000/svg\" height=\"24px\" viewBox=\"0 -960 960 960\">\n",
              "    <path d=\"M120-120v-720h720v720H120Zm60-500h600v-160H180v160Zm220 220h160v-160H400v160Zm0 220h160v-160H400v160ZM180-400h160v-160H180v160Zm440 0h160v-160H620v160ZM180-180h160v-160H180v160Zm440 0h160v-160H620v160Z\"/>\n",
              "  </svg>\n",
              "    </button>\n",
              "\n",
              "  <style>\n",
              "    .colab-df-container {\n",
              "      display:flex;\n",
              "      gap: 12px;\n",
              "    }\n",
              "\n",
              "    .colab-df-convert {\n",
              "      background-color: #E8F0FE;\n",
              "      border: none;\n",
              "      border-radius: 50%;\n",
              "      cursor: pointer;\n",
              "      display: none;\n",
              "      fill: #1967D2;\n",
              "      height: 32px;\n",
              "      padding: 0 0 0 0;\n",
              "      width: 32px;\n",
              "    }\n",
              "\n",
              "    .colab-df-convert:hover {\n",
              "      background-color: #E2EBFA;\n",
              "      box-shadow: 0px 1px 2px rgba(60, 64, 67, 0.3), 0px 1px 3px 1px rgba(60, 64, 67, 0.15);\n",
              "      fill: #174EA6;\n",
              "    }\n",
              "\n",
              "    .colab-df-buttons div {\n",
              "      margin-bottom: 4px;\n",
              "    }\n",
              "\n",
              "    [theme=dark] .colab-df-convert {\n",
              "      background-color: #3B4455;\n",
              "      fill: #D2E3FC;\n",
              "    }\n",
              "\n",
              "    [theme=dark] .colab-df-convert:hover {\n",
              "      background-color: #434B5C;\n",
              "      box-shadow: 0px 1px 3px 1px rgba(0, 0, 0, 0.15);\n",
              "      filter: drop-shadow(0px 1px 2px rgba(0, 0, 0, 0.3));\n",
              "      fill: #FFFFFF;\n",
              "    }\n",
              "  </style>\n",
              "\n",
              "    <script>\n",
              "      const buttonEl =\n",
              "        document.querySelector('#df-0bf48f1b-cb11-420e-b7b5-e6240c534a38 button.colab-df-convert');\n",
              "      buttonEl.style.display =\n",
              "        google.colab.kernel.accessAllowed ? 'block' : 'none';\n",
              "\n",
              "      async function convertToInteractive(key) {\n",
              "        const element = document.querySelector('#df-0bf48f1b-cb11-420e-b7b5-e6240c534a38');\n",
              "        const dataTable =\n",
              "          await google.colab.kernel.invokeFunction('convertToInteractive',\n",
              "                                                    [key], {});\n",
              "        if (!dataTable) return;\n",
              "\n",
              "        const docLinkHtml = 'Like what you see? Visit the ' +\n",
              "          '<a target=\"_blank\" href=https://colab.research.google.com/notebooks/data_table.ipynb>data table notebook</a>'\n",
              "          + ' to learn more about interactive tables.';\n",
              "        element.innerHTML = '';\n",
              "        dataTable['output_type'] = 'display_data';\n",
              "        await google.colab.output.renderOutput(dataTable, element);\n",
              "        const docLink = document.createElement('div');\n",
              "        docLink.innerHTML = docLinkHtml;\n",
              "        element.appendChild(docLink);\n",
              "      }\n",
              "    </script>\n",
              "  </div>\n",
              "\n",
              "\n",
              "<div id=\"df-495645bc-ead6-4c5a-88e4-004fabb25342\">\n",
              "  <button class=\"colab-df-quickchart\" onclick=\"quickchart('df-495645bc-ead6-4c5a-88e4-004fabb25342')\"\n",
              "            title=\"Suggest charts\"\n",
              "            style=\"display:none;\">\n",
              "\n",
              "<svg xmlns=\"http://www.w3.org/2000/svg\" height=\"24px\"viewBox=\"0 0 24 24\"\n",
              "     width=\"24px\">\n",
              "    <g>\n",
              "        <path d=\"M19 3H5c-1.1 0-2 .9-2 2v14c0 1.1.9 2 2 2h14c1.1 0 2-.9 2-2V5c0-1.1-.9-2-2-2zM9 17H7v-7h2v7zm4 0h-2V7h2v10zm4 0h-2v-4h2v4z\"/>\n",
              "    </g>\n",
              "</svg>\n",
              "  </button>\n",
              "\n",
              "<style>\n",
              "  .colab-df-quickchart {\n",
              "      --bg-color: #E8F0FE;\n",
              "      --fill-color: #1967D2;\n",
              "      --hover-bg-color: #E2EBFA;\n",
              "      --hover-fill-color: #174EA6;\n",
              "      --disabled-fill-color: #AAA;\n",
              "      --disabled-bg-color: #DDD;\n",
              "  }\n",
              "\n",
              "  [theme=dark] .colab-df-quickchart {\n",
              "      --bg-color: #3B4455;\n",
              "      --fill-color: #D2E3FC;\n",
              "      --hover-bg-color: #434B5C;\n",
              "      --hover-fill-color: #FFFFFF;\n",
              "      --disabled-bg-color: #3B4455;\n",
              "      --disabled-fill-color: #666;\n",
              "  }\n",
              "\n",
              "  .colab-df-quickchart {\n",
              "    background-color: var(--bg-color);\n",
              "    border: none;\n",
              "    border-radius: 50%;\n",
              "    cursor: pointer;\n",
              "    display: none;\n",
              "    fill: var(--fill-color);\n",
              "    height: 32px;\n",
              "    padding: 0;\n",
              "    width: 32px;\n",
              "  }\n",
              "\n",
              "  .colab-df-quickchart:hover {\n",
              "    background-color: var(--hover-bg-color);\n",
              "    box-shadow: 0 1px 2px rgba(60, 64, 67, 0.3), 0 1px 3px 1px rgba(60, 64, 67, 0.15);\n",
              "    fill: var(--button-hover-fill-color);\n",
              "  }\n",
              "\n",
              "  .colab-df-quickchart-complete:disabled,\n",
              "  .colab-df-quickchart-complete:disabled:hover {\n",
              "    background-color: var(--disabled-bg-color);\n",
              "    fill: var(--disabled-fill-color);\n",
              "    box-shadow: none;\n",
              "  }\n",
              "\n",
              "  .colab-df-spinner {\n",
              "    border: 2px solid var(--fill-color);\n",
              "    border-color: transparent;\n",
              "    border-bottom-color: var(--fill-color);\n",
              "    animation:\n",
              "      spin 1s steps(1) infinite;\n",
              "  }\n",
              "\n",
              "  @keyframes spin {\n",
              "    0% {\n",
              "      border-color: transparent;\n",
              "      border-bottom-color: var(--fill-color);\n",
              "      border-left-color: var(--fill-color);\n",
              "    }\n",
              "    20% {\n",
              "      border-color: transparent;\n",
              "      border-left-color: var(--fill-color);\n",
              "      border-top-color: var(--fill-color);\n",
              "    }\n",
              "    30% {\n",
              "      border-color: transparent;\n",
              "      border-left-color: var(--fill-color);\n",
              "      border-top-color: var(--fill-color);\n",
              "      border-right-color: var(--fill-color);\n",
              "    }\n",
              "    40% {\n",
              "      border-color: transparent;\n",
              "      border-right-color: var(--fill-color);\n",
              "      border-top-color: var(--fill-color);\n",
              "    }\n",
              "    60% {\n",
              "      border-color: transparent;\n",
              "      border-right-color: var(--fill-color);\n",
              "    }\n",
              "    80% {\n",
              "      border-color: transparent;\n",
              "      border-right-color: var(--fill-color);\n",
              "      border-bottom-color: var(--fill-color);\n",
              "    }\n",
              "    90% {\n",
              "      border-color: transparent;\n",
              "      border-bottom-color: var(--fill-color);\n",
              "    }\n",
              "  }\n",
              "</style>\n",
              "\n",
              "  <script>\n",
              "    async function quickchart(key) {\n",
              "      const quickchartButtonEl =\n",
              "        document.querySelector('#' + key + ' button');\n",
              "      quickchartButtonEl.disabled = true;  // To prevent multiple clicks.\n",
              "      quickchartButtonEl.classList.add('colab-df-spinner');\n",
              "      try {\n",
              "        const charts = await google.colab.kernel.invokeFunction(\n",
              "            'suggestCharts', [key], {});\n",
              "      } catch (error) {\n",
              "        console.error('Error during call to suggestCharts:', error);\n",
              "      }\n",
              "      quickchartButtonEl.classList.remove('colab-df-spinner');\n",
              "      quickchartButtonEl.classList.add('colab-df-quickchart-complete');\n",
              "    }\n",
              "    (() => {\n",
              "      let quickchartButtonEl =\n",
              "        document.querySelector('#df-495645bc-ead6-4c5a-88e4-004fabb25342 button');\n",
              "      quickchartButtonEl.style.display =\n",
              "        google.colab.kernel.accessAllowed ? 'block' : 'none';\n",
              "    })();\n",
              "  </script>\n",
              "</div>\n",
              "\n",
              "    </div>\n",
              "  </div>\n"
            ],
            "application/vnd.google.colaboratory.intrinsic+json": {
              "type": "dataframe",
              "variable_name": "data"
            }
          },
          "metadata": {},
          "execution_count": 2
        }
      ]
    },
    {
      "cell_type": "code",
      "source": [
        "# Baca data dalam chunks\n",
        "chunk_size = 5000  # Sesuaikan ukuran chunk dengan kapasitas RAM Anda"
      ],
      "metadata": {
        "id": "mjXYV6hRgzyO"
      },
      "execution_count": 3,
      "outputs": []
    },
    {
      "cell_type": "code",
      "source": [
        "# List untuk menampung hasil chunk yang telah diproses\n",
        "data_list = []"
      ],
      "metadata": {
        "id": "lwx23m0_g4FC"
      },
      "execution_count": 4,
      "outputs": []
    },
    {
      "cell_type": "code",
      "source": [
        "# Baca data dalam chunks\n",
        "chunk_size = 5000\n",
        "data_list = []\n",
        "for chunk in pd.read_csv('/content/Online Retail.csv', chunksize=chunk_size):\n",
        "    data_list.append(chunk)\n",
        "\n",
        "# Gabungkan data dari chunks\n",
        "data = pd.concat(data_list, ignore_index=True)"
      ],
      "metadata": {
        "id": "zgmnkUddg7ZE"
      },
      "execution_count": 5,
      "outputs": []
    },
    {
      "cell_type": "code",
      "source": [
        "# Gabungkan semua chunks menjadi satu DataFrame yang lebih kecil\n",
        "data = pd.concat(data_list, axis=0)"
      ],
      "metadata": {
        "id": "v6DMBVNihqDd"
      },
      "execution_count": 6,
      "outputs": []
    },
    {
      "cell_type": "code",
      "source": [
        "# Ambil sampel 5% untuk mengurangi ukuran\n",
        "data_sampled = data.sample(frac=0.05, random_state=0)"
      ],
      "metadata": {
        "id": "Hjtg8IM2h4-U"
      },
      "execution_count": 7,
      "outputs": []
    },
    {
      "cell_type": "code",
      "source": [
        "# Standarisasi data numerik yang disampled\n",
        "# Pilih hanya kolom numerik untuk standarisasi\n",
        "numeric_features = data_sampled.select_dtypes(include=['number']).columns\n",
        "scaler = StandardScaler()\n",
        "data_scaled = scaler.fit_transform(data_sampled[numeric_features])\n",
        "\n",
        "# Buat DataFrame baru dengan data yang telah distandarisasi\n",
        "data_scaled = pd.DataFrame(data_scaled, columns=numeric_features, index=data_sampled.index)\n",
        "\n",
        "# Gabungkan kembali kolom non-numerik (jika diperlukan)\n",
        "data_scaled = pd.concat([data_scaled, data_sampled.drop(columns=numeric_features)], axis=1)"
      ],
      "metadata": {
        "id": "P4qSVTD2iLKI"
      },
      "execution_count": 8,
      "outputs": []
    },
    {
      "cell_type": "code",
      "source": [
        "!pip install scikit-learn\n",
        "from sklearn.cluster import MiniBatchKMeans\n",
        "\n",
        "# Standarisasi data numerik yang disampled\n",
        "# Pilih hanya kolom numerik untuk standarisasi, kecualikan kolom 'StockCode' dan kolom non-numerik lainnya\n",
        "numeric_features = data_sampled.select_dtypes(include=['number']).columns\n",
        "numeric_features = numeric_features.drop('CustomerID', errors='ignore')  # Mengabaikan kesalahan jika 'CustomerID' tidak ada\n",
        "# ... (kode lainnya tetap sama)\n",
        "\n",
        "# Terapkan MiniBatchKMeans pada data yang sudah disampled dan distandarisasi\n",
        "# Pastikan Anda hanya menggunakan kolom numerik yang telah distandarisasi\n",
        "minibatch_kmeans = MiniBatchKMeans(n_clusters=3, random_state=0, batch_size=100)\n",
        "minibatch_labels = minibatch_kmeans.fit_predict(data_scaled[numeric_features])"
      ],
      "metadata": {
        "colab": {
          "base_uri": "https://localhost:8080/"
        },
        "id": "vnAO1WtckmAp",
        "outputId": "1a759c19-6441-4a21-edd3-ceb85008d0c3"
      },
      "execution_count": 9,
      "outputs": [
        {
          "output_type": "stream",
          "name": "stdout",
          "text": [
            "Requirement already satisfied: scikit-learn in /usr/local/lib/python3.10/dist-packages (1.5.2)\n",
            "Requirement already satisfied: numpy>=1.19.5 in /usr/local/lib/python3.10/dist-packages (from scikit-learn) (1.26.4)\n",
            "Requirement already satisfied: scipy>=1.6.0 in /usr/local/lib/python3.10/dist-packages (from scikit-learn) (1.13.1)\n",
            "Requirement already satisfied: joblib>=1.2.0 in /usr/local/lib/python3.10/dist-packages (from scikit-learn) (1.4.2)\n",
            "Requirement already satisfied: threadpoolctl>=3.1.0 in /usr/local/lib/python3.10/dist-packages (from scikit-learn) (3.5.0)\n"
          ]
        }
      ]
    },
    {
      "cell_type": "code",
      "source": [
        "# Hitung Silhouette Score\n",
        "# Hanya gunakan kolom numerik yang telah distandarisasi untuk menghitung Silhouette Score\n",
        "minibatch_silhouette = silhouette_score(data_scaled[numeric_features], minibatch_labels)\n",
        "print(\"MiniBatchKMeans Silhouette Score:\", minibatch_silhouette)"
      ],
      "metadata": {
        "colab": {
          "base_uri": "https://localhost:8080/"
        },
        "id": "FsskeWipjILW",
        "outputId": "3ac35da2-79d7-4559-d918-c4355ab281a8"
      },
      "execution_count": 10,
      "outputs": [
        {
          "output_type": "stream",
          "name": "stdout",
          "text": [
            "MiniBatchKMeans Silhouette Score: 0.4592443871304266\n"
          ]
        }
      ]
    },
    {
      "cell_type": "code",
      "source": [
        "# Baca data dalam chunks\n",
        "chunk_size = 5000\n",
        "data_list = []\n",
        "for chunk in pd.read_csv('/content/Online Retail.csv', chunksize=chunk_size):\n",
        "    chunk = chunk[['Quantity', 'UnitPrice']].dropna()\n",
        "    data_list.append(chunk)"
      ],
      "metadata": {
        "id": "0rHd7Kv6jOPd"
      },
      "execution_count": 11,
      "outputs": []
    },
    {
      "cell_type": "code",
      "source": [
        "data = pd.concat(data_list, axis=0)\n",
        "data_sampled = data.sample(frac=0.05, random_state=0)  # Sampling 10%"
      ],
      "metadata": {
        "id": "uePIINtqjgMC"
      },
      "execution_count": 12,
      "outputs": []
    },
    {
      "cell_type": "code",
      "source": [
        "# Standarisasi data\n",
        "scaler = StandardScaler()\n",
        "data_scaled = scaler.fit_transform(data_sampled)"
      ],
      "metadata": {
        "id": "eO6_nqUwjmj4"
      },
      "execution_count": 13,
      "outputs": []
    },
    {
      "cell_type": "code",
      "source": [
        "# K-Means Clustering\n",
        "kmeans = KMeans(n_clusters=3, random_state=0)\n",
        "kmeans_labels = kmeans.fit_predict(data_scaled)\n",
        "\n",
        "# Hitung nilai Silhouette dan Davies-Bouldin untuk KMeans\n",
        "kmeans_silhouette = silhouette_score(data_scaled, kmeans_labels)\n",
        "kmeans_davies = davies_bouldin_score(data_scaled, kmeans_labels)\n",
        "kmeans_calinski = calinski_harabasz_score(data_scaled, kmeans_labels)\n",
        "\n",
        "print(\"K-Means Silhouette Score:\", kmeans_silhouette)\n",
        "print(\"K-Means Davies-Bouldin Score:\", kmeans_davies)\n",
        "print(\"K-Means Calinski-Harabasz Score:\", kmeans_calinski)"
      ],
      "metadata": {
        "colab": {
          "base_uri": "https://localhost:8080/"
        },
        "id": "ibkoeNFGjpbg",
        "outputId": "c623795b-57f7-4f9e-893b-dce9ed0f2e92"
      },
      "execution_count": 14,
      "outputs": [
        {
          "output_type": "stream",
          "name": "stdout",
          "text": [
            "K-Means Silhouette Score: 0.9978624351091656\n",
            "K-Means Davies-Bouldin Score: 0.22063081786396274\n",
            "K-Means Calinski-Harabasz Score: 51089.50160800418\n"
          ]
        }
      ]
    },
    {
      "cell_type": "code",
      "source": [
        "# Agglomerative Clustering\n",
        "agglo = AgglomerativeClustering(n_clusters=3)\n",
        "agglo_labels = agglo.fit_predict(data_scaled)\n",
        "\n",
        "# Hitung nilai Silhouette dan Davies-Bouldin untuk Agglomerative Clustering\n",
        "agglo_silhouette = silhouette_score(data_scaled, agglo_labels)\n",
        "agglo_davies = davies_bouldin_score(data_scaled, agglo_labels)\n",
        "agglo_calinski = calinski_harabasz_score(data_scaled, agglo_labels)\n",
        "\n",
        "print(\"Agglomerative Clustering Silhouette Score:\", agglo_silhouette)\n",
        "print(\"Agglomerative Clustering Davies-Bouldin Score:\", agglo_davies)\n",
        "print(\"Agglomerative Clustering Calinski-Harabasz Score:\", agglo_calinski)"
      ],
      "metadata": {
        "colab": {
          "base_uri": "https://localhost:8080/"
        },
        "id": "MAolGQvzjzPG",
        "outputId": "92b39a1e-d156-402c-cc2a-70d2c954c537"
      },
      "execution_count": 15,
      "outputs": [
        {
          "output_type": "stream",
          "name": "stdout",
          "text": [
            "Agglomerative Clustering Silhouette Score: 0.9971904524512569\n",
            "Agglomerative Clustering Davies-Bouldin Score: 0.3056782878234072\n",
            "Agglomerative Clustering Calinski-Harabasz Score: 62288.64900019258\n"
          ]
        }
      ]
    },
    {
      "cell_type": "code",
      "source": [
        "# Menghitung distortions untuk menentukan nilai k optimal\n",
        "distortions = []\n",
        "K = range(1, 10)\n",
        "for k in K:\n",
        "    kmeans = KMeans(n_clusters=k, random_state=0)\n",
        "    kmeans.fit(data_scaled)\n",
        "    distortions.append(sum(np.min(cdist(data_scaled, kmeans.cluster_centers_, 'euclidean'), axis=1)) / data_scaled.shape[0])\n",
        "\n",
        "plt.plot(K, distortions, color='pink', marker='x')  # Ubah warna menjadi pink\n",
        "plt.xlabel('Number of clusters')\n",
        "plt.ylabel('Distortion')\n",
        "plt.title('Elbow Method for Optimal k')\n",
        "plt.show()"
      ],
      "metadata": {
        "colab": {
          "base_uri": "https://localhost:8080/",
          "height": 472
        },
        "id": "Jz23fJ9fj-Yi",
        "outputId": "d5b74717-7177-4542-9b6f-94733fb1cef8"
      },
      "execution_count": 16,
      "outputs": [
        {
          "output_type": "display_data",
          "data": {
            "text/plain": [
              "<Figure size 640x480 with 1 Axes>"
            ],
            "image/png": "[encoded data removed]"
          },
          "metadata": {}
        }
      ]
    }
  ]
}