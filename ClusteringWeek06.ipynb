{
  "nbformat": 4,
  "nbformat_minor": 0,
  "metadata": {
    "colab": {
      "provenance": []
    },
    "kernelspec": {
      "name": "python3",
      "display_name": "Python 3"
    },
    "language_info": {
      "name": "python"
    }
  },
  "cells": [
    {
      "cell_type": "markdown",
      "source": [
        "# Clustering Week 06\n",
        "Raihana Fawaz (1103210102)"
      ],
      "metadata": {
        "id": "pegwf8xbVyVn"
      }
    },
    {
      "cell_type": "code",
      "source": [
        "from google.colab import drive\n",
        "import pandas as pd\n",
        "from sklearn.cluster import KMeans, MiniBatchKMeans\n",
        "from sklearn.preprocessing import StandardScaler\n",
        "from sklearn.cluster import KMeans, AgglomerativeClustering\n",
        "from sklearn.metrics import silhouette_score, davies_bouldin_score\n",
        "from scipy.spatial.distance import cdist\n",
        "from scipy.cluster.hierarchy import dendrogram, linkage\n",
        "from sklearn.metrics import calinski_harabasz_score\n",
        "from sklearn.metrics import silhouette_samples\n",
        "import matplotlib.pyplot as plt\n",
        "import numpy as np"
      ],
      "metadata": {
        "id": "fsUxonvHZ7CL"
      },
      "execution_count": 24,
      "outputs": []
    },
    {
      "cell_type": "code",
      "source": [
        "data = pd.read_csv('clusteringweek06.csv')"
      ],
      "metadata": {
        "id": "y_Y20maEbxu_"
      },
      "execution_count": 25,
      "outputs": []
    },
    {
      "cell_type": "code",
      "source": [
        "# Baca data dalam chunks\n",
        "chunk_size = 1000\n",
        "data_list = []\n",
        "for chunk in pd.read_csv('clusteringweek06.csv', chunksize=chunk_size):\n",
        "    data_list.append(chunk)\n",
        "\n",
        "# Gabungkan data dari chunks\n",
        "data = pd.concat(data_list, ignore_index=True)"
      ],
      "metadata": {
        "id": "AXUy2eD_a35s"
      },
      "execution_count": 26,
      "outputs": []
    },
    {
      "cell_type": "code",
      "source": [
        "# Gabungkan semua chunks menjadi satu DataFrame yang lebih kecil\n",
        "data = pd.concat(data_list, axis=0)\n",
        "data_sampled = data.sample(frac=0.1, random_state=0)  # Sampling 10% dari data"
      ],
      "metadata": {
        "id": "w9XNk9U_cHOF"
      },
      "execution_count": 27,
      "outputs": []
    },
    {
      "cell_type": "code",
      "source": [
        "# Standarisasi data numerik\n",
        "scaler = StandardScaler()\n",
        "data_scaled = scaler.fit_transform(data_sampled)"
      ],
      "metadata": {
        "id": "q_GCXXtVcMkp"
      },
      "execution_count": 28,
      "outputs": []
    },
    {
      "cell_type": "code",
      "source": [
        "# K-Means Clustering\n",
        "kmeans = KMeans(n_clusters=3, random_state=0)\n",
        "kmeans_labels = kmeans.fit_predict(data_scaled)\n",
        "\n",
        "# Hitung nilai Silhouette dan Davies-Bouldin untuk KMeans\n",
        "kmeans_silhouette = silhouette_score(data_scaled, kmeans_labels)\n",
        "kmeans_davies = davies_bouldin_score(data_scaled, kmeans_labels)\n",
        "kmeans_calinski = calinski_harabasz_score(data_scaled, kmeans_labels)\n",
        "\n",
        "print(\"K-Means Silhouette Score:\", kmeans_silhouette)\n",
        "print(\"K-Means Davies-Bouldin Score:\", kmeans_davies)\n",
        "print(\"K-Means Calinski-Harabasz Score:\", kmeans_calinski)"
      ],
      "metadata": {
        "colab": {
          "base_uri": "https://localhost:8080/"
        },
        "id": "eS4QiT7-cO_o",
        "outputId": "9cbcd8b6-f2c3-4586-d55f-d4b243ec4c31"
      },
      "execution_count": 29,
      "outputs": [
        {
          "output_type": "stream",
          "name": "stdout",
          "text": [
            "K-Means Silhouette Score: 0.18735384032613425\n",
            "K-Means Davies-Bouldin Score: 1.3798722085537432\n",
            "K-Means Calinski-Harabasz Score: 196.3621230918941\n"
          ]
        }
      ]
    },
    {
      "cell_type": "code",
      "source": [
        "# MiniBatchKMeans Clustering\n",
        "minibatch_kmeans = MiniBatchKMeans(n_clusters=3, random_state=0, batch_size=100)\n",
        "minibatch_labels = minibatch_kmeans.fit_predict(data_scaled)\n",
        "\n",
        "# Hitung nilai Silhouette dan Davies-Bouldin untuk MiniBatchKMeans\n",
        "minibatch_silhouette = silhouette_score(data_scaled, minibatch_labels)\n",
        "minibatch_davies = davies_bouldin_score(data_scaled, minibatch_labels)\n",
        "minibatch_calinski = calinski_harabasz_score(data_scaled, minibatch_labels)\n",
        "\n",
        "print(\"MiniBatchKMeans Silhouette Score:\", minibatch_silhouette)\n",
        "print(\"MiniBatchKMeans Davies-Bouldin Score:\", minibatch_davies)\n",
        "print(\"MiniBatchKMeans Calinski-Harabasz Score:\", minibatch_calinski)"
      ],
      "metadata": {
        "colab": {
          "base_uri": "https://localhost:8080/"
        },
        "id": "ZRJx1QsociIX",
        "outputId": "97033c6a-97cb-425e-d6b1-3fbaf6658b89"
      },
      "execution_count": 30,
      "outputs": [
        {
          "output_type": "stream",
          "name": "stdout",
          "text": [
            "MiniBatchKMeans Silhouette Score: 0.3229145860759916\n",
            "MiniBatchKMeans Davies-Bouldin Score: 1.2621642842524174\n",
            "MiniBatchKMeans Calinski-Harabasz Score: 211.46758667962467\n"
          ]
        }
      ]
    },
    {
      "cell_type": "code",
      "source": [
        "# Agglomerative Clustering\n",
        "agglo = AgglomerativeClustering(n_clusters=3)\n",
        "agglo_labels = agglo.fit_predict(data_scaled)\n",
        "\n",
        "# Hitung nilai Silhouette dan Davies-Bouldin untuk Agglomerative Clustering\n",
        "agglo_silhouette = silhouette_score(data_scaled, agglo_labels)\n",
        "agglo_davies = davies_bouldin_score(data_scaled, agglo_labels)\n",
        "agglo_calinski = calinski_harabasz_score(data_scaled, agglo_labels)\n",
        "\n",
        "print(\"Agglomerative Clustering Silhouette Score:\", agglo_silhouette)\n",
        "print(\"Agglomerative Clustering Davies-Bouldin Score:\", agglo_davies)\n",
        "print(\"Agglomerative Clustering Calinski-Harabasz Score:\", agglo_calinski)"
      ],
      "metadata": {
        "colab": {
          "base_uri": "https://localhost:8080/"
        },
        "id": "ydQ-TVVIc5us",
        "outputId": "fda51d9c-9164-424d-9a7c-510800c2dfd7"
      },
      "execution_count": 31,
      "outputs": [
        {
          "output_type": "stream",
          "name": "stdout",
          "text": [
            "Agglomerative Clustering Silhouette Score: 0.34170927768963266\n",
            "Agglomerative Clustering Davies-Bouldin Score: 1.471133488100411\n",
            "Agglomerative Clustering Calinski-Harabasz Score: 227.52279278362747\n"
          ]
        }
      ]
    },
    {
      "cell_type": "code",
      "source": [
        "from scipy.spatial.distance import cdist\n",
        "\n",
        "distortions = []\n",
        "K = range(1, 10)\n",
        "for k in K:\n",
        "    kmeans = KMeans(n_clusters=k, random_state=0)\n",
        "    kmeans.fit(data_scaled)\n",
        "    distortions.append(sum(np.min(cdist(data_scaled, kmeans.cluster_centers_, 'euclidean'), axis=1)) / data_scaled.shape[0])\n",
        "\n",
        "plt.plot(K, distortions, 'x-', color='pink')\n",
        "plt.xlabel('Number of clusters')\n",
        "plt.ylabel('Distortion')\n",
        "plt.title('Elbow Method for Optimal k')\n",
        "plt.show()\n"
      ],
      "metadata": {
        "colab": {
          "base_uri": "https://localhost:8080/",
          "height": 472
        },
        "id": "q333hsU-dWQn",
        "outputId": "e99d318e-3cf6-4e50-8778-db4b2a975b23"
      },
      "execution_count": 33,
      "outputs": [
        {
          "output_type": "display_data",
          "data": {
            "text/plain": [
              "<Figure size 640x480 with 1 Axes>"
            ],
            "image/png": "[encoded data removed]"
          },
          "metadata": {}
        }
      ]
    },
    {
      "cell_type": "markdown",
      "source": [
        "1. **Silhouette Score**: Model KMeans menghasilkan *Silhouette Score* tertinggi di antara ketiga model, menunjukkan bahwa cluster yang terbentuk cukup terpisah dengan jelas. MiniBatchKMeans memiliki skor yang sedikit lebih rendah dari KMeans, namun masih cukup tinggi untuk menunjukkan pemisahan cluster yang baik. Sebaliknya, Agglomerative Clustering memiliki *Silhouette Score* terendah, menunjukkan bahwa cluster yang terbentuk tidak cukup terpisah dan cenderung memiliki overlap antar cluster.\n",
        "\n",
        "2. **Davies-Bouldin Score**: KMeans kembali unggul dengan *Davies-Bouldin Score* terendah, yang menandakan bahwa cluster yang terbentuk memiliki tingkat kekompakan yang baik dan saling berjauhan satu sama lain. MiniBatchKMeans memiliki *Davies-Bouldin Score* yang sedikit lebih tinggi daripada KMeans, menandakan bahwa tingkat kekompakannya sedikit kurang. Agglomerative Clustering mencatat nilai *Davies-Bouldin Score* tertinggi, yang menunjukkan bahwa cluster yang terbentuk kurang kompak dan saling berdekatan, sehingga kualitas clusteringnya tidak optimal.\n",
        "\n",
        "3. **Calinski-Harabasz Score**: Model KMeans kembali menunjukkan performa terbaik dengan *Calinski-Harabasz Score* tertinggi, yang menandakan densitas cluster yang baik serta jarak yang cukup besar antar cluster. MiniBatchKMeans memiliki skor yang mendekati KMeans, menunjukkan bahwa meskipun tidak setinggi KMeans, densitas cluster yang dihasilkan masih cukup baik. Sementara itu, Agglomerative Clustering memiliki *Calinski-Harabasz Score* terendah, yang menandakan bahwa cluster yang terbentuk memiliki densitas yang rendah dan kurang terpisah satu sama lain.\n",
        "\n",
        "Secara keseluruhan, KMeans merupakan model terbaik untuk dataset ini pada ketiga metrik evaluasi, diikuti oleh MiniBatchKMeans sebagai alternatif yang memadai, sementara Agglomerative Clustering tidak direkomendasikan karena performanya yang rendah pada semua metrik."
      ],
      "metadata": {
        "id": "bb1dVI_kfzgJ"
      }
    }
  ]
}